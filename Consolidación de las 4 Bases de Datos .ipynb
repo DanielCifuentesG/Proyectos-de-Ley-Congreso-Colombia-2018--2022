{
 "cells": [
  {
   "cell_type": "markdown",
   "metadata": {},
   "source": [
    "# Generación de las 4 bases de datos  "
   ]
  },
  {
   "cell_type": "markdown",
   "metadata": {},
   "source": [
    "## Base de Datos  1  (datos de una sola variable) "
   ]
  },
  {
   "cell_type": "code",
   "execution_count": null,
   "metadata": {},
   "outputs": [],
   "source": [
    "\n",
    "frame_1 = pd.DataFrame(Macro_DF[['Proyecto de Ley','Palabra Clave','Estado','Fecha Radicación','Resumen','Tipo','link']]).copy()"
   ]
  },
  {
   "cell_type": "markdown",
   "metadata": {},
   "source": [
    "## Base de Datos 2   (ID, Autor, Partido, Camara)"
   ]
  },
  {
   "cell_type": "code",
   "execution_count": null,
   "metadata": {},
   "outputs": [],
   "source": [
    "frame_2 = dict(zip(Macro_DF['ID'],Macro_DF['Autor']))\n",
    "keys = [k for k in frame_2.keys() for v in frame_2[k]]\n",
    "values = [v for k in frame_2.keys() for v in frame_2[k]]\n",
    "frame_2 = pd.DataFrame.from_dict({'index': keys, 'values': values})\n",
    "frame_2.rename(columns={'index':'ID','values':'congresista'}, inplace=True) # arreglar el nombre de las columnas \n",
    "frame_2['CC'] = '' # para poner un ID a cada congresista (manual)"
   ]
  },
  {
   "cell_type": "markdown",
   "metadata": {},
   "source": [
    "## Base de Datos 3  (ID - Temas)"
   ]
  },
  {
   "cell_type": "code",
   "execution_count": null,
   "metadata": {},
   "outputs": [],
   "source": [
    "frame_3 = dict(zip(Macro_DF['ID'],Macro_DF['Tema']))\n",
    "keys = [k for k in frame_3.keys() for v in frame_3[k]]\n",
    "values = [v for k in frame_3.keys() for v in frame_3[k]]\n",
    "frame_3 = pd.DataFrame.from_dict({'index': keys, 'values': values})\n",
    "frame_3.rename(columns={'index':'ID','values':'Tema'}, inplace=True)"
   ]
  },
  {
   "cell_type": "markdown",
   "metadata": {},
   "source": [
    "## Base de Datos 4 (ID - Tags)"
   ]
  },
  {
   "cell_type": "code",
   "execution_count": null,
   "metadata": {},
   "outputs": [],
   "source": [
    "frame_4 = dict(zip(Macro_DF['ID'],Macro_DF['Tags']))\n",
    "keys = [k for k in frame_4.keys() for v in frame_4[k]]\n",
    "values = [v for k in frame_4.keys() for v in frame_4[k]]\n",
    "frame_4 = pd.DataFrame.from_dict({'index': keys, 'values': values})\n",
    "frame_4.rename(columns={'index':'ID','values':'Tags'}, inplace=True)"
   ]
  }
 ],
 "metadata": {
  "kernelspec": {
   "display_name": "Python 3",
   "language": "python",
   "name": "python3"
  },
  "language_info": {
   "codemirror_mode": {
    "name": "ipython",
    "version": 3
   },
   "file_extension": ".py",
   "mimetype": "text/x-python",
   "name": "python",
   "nbconvert_exporter": "python",
   "pygments_lexer": "ipython3",
   "version": "3.7.1"
  }
 },
 "nbformat": 4,
 "nbformat_minor": 2
}

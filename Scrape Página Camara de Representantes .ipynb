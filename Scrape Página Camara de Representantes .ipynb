{
 "cells": [
  {
   "cell_type": "markdown",
   "metadata": {},
   "source": [
    "# Scrape Página Camara de Representantes "
   ]
  },
  {
   "cell_type": "markdown",
   "metadata": {},
   "source": [
    "####  Se  sacan las páginas web que llevan al perfil de cada uno de los Representantes a la Camara "
   ]
  },
  {
   "cell_type": "code",
   "execution_count": null,
   "metadata": {},
   "outputs": [],
   "source": [
    "def scrap_url_representantes():\n",
    "    html = requests.get('http://www.camara.gov.co/index.php/representantes').text\n",
    "    sopa = BeautifulSoup(html, 'lxml')\n",
    "    r_rep_links = sopa.find_all('span', class_='namereplist')\n",
    "    rep_prefix = 'http://www.camara.gov.co/index.php/representantes/' \n",
    "    rep_sufix = re.findall('href=\"/representantes/(.+?)\" hreflang',str(r_rep_links))\n",
    "    rep_url = [rep_prefix + x for x in rep_sufix]\n",
    "    \n",
    "    return rep_url\n",
    "\n"
   ]
  },
  {
   "cell_type": "markdown",
   "metadata": {},
   "source": [
    "####  se aplica la función y se obtiene una lista con 174 urls "
   ]
  },
  {
   "cell_type": "code",
   "execution_count": null,
   "metadata": {},
   "outputs": [],
   "source": [
    "rep_urls = scrap_url_representantes()"
   ]
  },
  {
   "cell_type": "markdown",
   "metadata": {},
   "source": [
    "## Algoritmo para extraer la información de cada Representante "
   ]
  },
  {
   "cell_type": "code",
   "execution_count": null,
   "metadata": {},
   "outputs": [],
   "source": [
    "def rep_info(url):\n",
    "    try:\n",
    "        html = requests.get(url).text\n",
    "        sopa = BeautifulSoup(html, 'lxml')\n",
    "    \n",
    "        r_mombre = sopa.find_all('div', class_='field field--name-name field--type-string field--label-hidden field__item')\n",
    "        nombre = re.findall('field__item\">(.+?)</div>', str(r_mombre))[-1]\n",
    "        \n",
    "        rep_Info = sopa.find_all('div', class_='col-xs-6 col-sm-6 col-md-6 contatributosrep')\n",
    "        \n",
    "        r_rep_partido = sopa.find_all('span', class_='partpolit')\n",
    "        rep_partido = re.findall('hreflang=\\\"es\\\">(.+?)</a>', str(r_rep_partido))[-1]\n",
    "        \n",
    "        rep_circuns = re.findall('field--label-hidden field__item\\\">(.+?)</div>', str(rep_Info))[-1]\n",
    "        \n",
    "        try:\n",
    "            r_rep_votos = sopa.find_all('div', class_='field field--name-field-votos-obtenidos field--type-string field--label-visually_hidden')\n",
    "            rep_votos = re.findall('field__item\\\">(.+?)</div>', str(r_rep_votos))[-1]\n",
    "        except:\n",
    "            rep_votos= 'NA'\n",
    "        return{'congresista':nombre,'Partido':rep_partido,'circunscripción':rep_circuns,'votos':rep_votos}\n",
    "    #retorna un diccionario con cada elemento \n",
    "    \n",
    "    except:\n",
    "        nombre = 'link dañado'\n",
    "        rep_partido = 'link dañado'\n",
    "        rep_circuns = 'link dañado'\n",
    "        rep_votos = 'link dañado'\n",
    "        \n",
    "        return{'congresista':nombre,'Partido':rep_partido,'circunscripción':rep_circuns,'votos':rep_votos}"
   ]
  },
  {
   "cell_type": "markdown",
   "metadata": {},
   "source": [
    "#### se aplica la función  y se genera la Base de datos "
   ]
  },
  {
   "cell_type": "code",
   "execution_count": null,
   "metadata": {},
   "outputs": [],
   "source": [
    "rep_Dicc = list(map(rep_info,rep_urls))\n",
    "\n",
    "rep_DF = pd.DataFrame(rep_Dicc)\n",
    "representantes_DF = pd.DataFrame(rep_DF[['congresista','Partido','Camara']])"
   ]
  },
  {
   "cell_type": "markdown",
   "metadata": {},
   "source": [
    "Se obtiene una base de datos con la información de cada Representante:\n",
    "\n",
    "- Nombre\n",
    "- Partido\n",
    "- Circunscripción \n",
    "- votos "
   ]
  }
 ],
 "metadata": {
  "kernelspec": {
   "display_name": "Python 3",
   "language": "python",
   "name": "python3"
  },
  "language_info": {
   "codemirror_mode": {
    "name": "ipython",
    "version": 3
   },
   "file_extension": ".py",
   "mimetype": "text/x-python",
   "name": "python",
   "nbconvert_exporter": "python",
   "pygments_lexer": "ipython3",
   "version": "3.7.1"
  }
 },
 "nbformat": 4,
 "nbformat_minor": 2
}

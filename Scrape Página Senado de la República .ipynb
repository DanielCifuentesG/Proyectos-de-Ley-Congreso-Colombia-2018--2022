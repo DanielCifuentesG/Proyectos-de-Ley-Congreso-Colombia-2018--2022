{
 "cells": [
  {
   "cell_type": "markdown",
   "metadata": {},
   "source": [
    "# Scrape Página Senado de la República "
   ]
  },
  {
   "cell_type": "code",
   "execution_count": null,
   "metadata": {},
   "outputs": [],
   "source": [
    "import pandas as pd\n",
    "import requests\n",
    "from bs4 import BeautifulSoup\n",
    "import re\n",
    "import itertools\n",
    "\n",
    "from selenium import webdriver\n",
    "import time"
   ]
  },
  {
   "cell_type": "markdown",
   "metadata": {},
   "source": [
    "###  se establece la lista de urls que lleva a la información de cada senador "
   ]
  },
  {
   "cell_type": "code",
   "execution_count": null,
   "metadata": {},
   "outputs": [],
   "source": [
    "def scrap_url_senadores():\n",
    "    html = requests.get('http://www.senado.gov.co/el-senado/senadores').text\n",
    "    sopa = BeautifulSoup(html, 'lxml')\n",
    "    \n",
    "    senadores_prefix = 'http://www.senado.gov.co/el-senado/senadores/213-directorio/'\n",
    "    senadores_sufix = re.findall('directorio/(.+?)\\\">', str(sopa.find_all('tbody')))\n",
    "    url_senadores = [senadores_prefix + x for x in senadores_sufix]\n",
    "    \n",
    "    return url_senadores"
   ]
  },
  {
   "cell_type": "markdown",
   "metadata": {},
   "source": [
    "#####  se aplica la función "
   ]
  },
  {
   "cell_type": "code",
   "execution_count": null,
   "metadata": {},
   "outputs": [],
   "source": [
    "senador_url = scrap_url_senadores() "
   ]
  },
  {
   "cell_type": "markdown",
   "metadata": {},
   "source": [
    "### Algoritmo para sacar información de cada senador ( nombre, partido) "
   ]
  },
  {
   "cell_type": "code",
   "execution_count": null,
   "metadata": {},
   "outputs": [],
   "source": [
    "def senador_info(url):\n",
    "    try:\n",
    "        html = requests.get(url).text\n",
    "        sopa = BeautifulSoup(html, 'lxml')\n",
    "    \n",
    "        nombre_senador = re.findall('\\t([A-ZÁÉÍÓU].+?)\\t',str(sopa.find_all('p', id='contact-name')))[-1]\n",
    "        departamento_senador = re.findall('\\t([A-ZÁÉÍÓU].+?)\\t',str(sopa.find_all('p', id='contact-position')))[-1]\n",
    "        partido_senador = re.findall('>(.+?)</p>',str(sopa.find_all('p', id='contact-country')))[-1]\n",
    "        \n",
    "        return{'senador':nombre_senador,'Departamento':departamento_senador,'Partido':partido_senador}\n",
    "    except:\n",
    "        nombre_senador = 'link dañado'\n",
    "        departamento_senador = 'link dañado'\n",
    "        partido_senador = 'link dañado'\n",
    "        return{'senador':nombre_senador,'Departamento':departamento_senador,'Partido':partido_senador}"
   ]
  },
  {
   "cell_type": "markdown",
   "metadata": {},
   "source": [
    "###  se aplica la función y se crea la base de datos "
   ]
  },
  {
   "cell_type": "code",
   "execution_count": null,
   "metadata": {},
   "outputs": [],
   "source": [
    "senador_Dicc = list(map(senador_info,senador_url))\n",
    "senador_DF = pd.DataFrame(senador_Dicc)\n",
    "senador_DF.rename(columns={'senador':'congresista'}, inplace=True)\n",
    "senado_DF = pd.DataFrame(senador_DF[['congresista','Partido','Camara']])"
   ]
  }
 ],
 "metadata": {
  "kernelspec": {
   "display_name": "Python 3",
   "language": "python",
   "name": "python3"
  },
  "language_info": {
   "codemirror_mode": {
    "name": "ipython",
    "version": 3
   },
   "file_extension": ".py",
   "mimetype": "text/x-python",
   "name": "python",
   "nbconvert_exporter": "python",
   "pygments_lexer": "ipython3",
   "version": "3.7.1"
  }
 },
 "nbformat": 4,
 "nbformat_minor": 2
}
